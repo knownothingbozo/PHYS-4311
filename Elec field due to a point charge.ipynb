{
 "cells": [
  {
   "cell_type": "code",
   "execution_count": 1,
   "id": "25b98679",
   "metadata": {},
   "outputs": [
    {
     "data": {
      "text/html": [
       "<style>.container { width:90% !important; }</style>"
      ],
      "text/plain": [
       "<IPython.core.display.HTML object>"
      ]
     },
     "metadata": {},
     "output_type": "display_data"
    }
   ],
   "source": [
    "import math\n",
    "import sympy as sym\n",
    "import matplotlib.pyplot as plt\n",
    "import numpy as np\n",
    "from IPython.core.interactiveshell import InteractiveShell\n",
    "InteractiveShell.ast_node_interactivity = 'all'\n",
    "from sympy.abc import beta\n",
    "from scipy.integrate import quad\n",
    "from scipy.special import gamma\n",
    "from sympy import I\n",
    "\n",
    "from IPython.display import display, HTML\n",
    "display(HTML(\"<style>.container { width:90% !important; }</style>\"))"
   ]
  },
  {
   "cell_type": "code",
   "execution_count": 1,
   "id": "23066bd9",
   "metadata": {},
   "outputs": [],
   "source": [
    "def E_field(r, rp, q):\n",
    "    k = 8.98755262e9\n",
    "    \n",
    "    R = []\n",
    "    for i in range(len(r)):\n",
    "        R.append(rp[i] - r[i])\n",
    "        \n",
    "    rmag = r_mag(R)\n",
    "    \n",
    "    E = []\n",
    "    for i in R:\n",
    "        E.append(k*q*rmag**-3*i)\n",
    "    \n",
    "    return E\n",
    "        \n",
    "    \n",
    "def r_mag(r):\n",
    "    rmag = 0\n",
    "    for i in r:\n",
    "        rmag += i**2\n",
    "    return rmag**.5"
   ]
  },
  {
   "cell_type": "code",
   "execution_count": 16,
   "id": "8274c43e",
   "metadata": {},
   "outputs": [],
   "source": [
    "l = 0.14/3\n",
    "r = [0, 0, 0]\n",
    "rp = [0, 0.03, 0]\n",
    "q = (8e-9)/3"
   ]
  },
  {
   "cell_type": "code",
   "execution_count": 17,
   "id": "bb4766cc",
   "metadata": {},
   "outputs": [
    {
     "name": "stdout",
     "output_type": "stream",
     "text": [
      "Electric field at Q3 due to Q1\n"
     ]
    },
    {
     "data": {
      "text/plain": [
       "[0.0, 26629.785540740748, 0.0]"
      ]
     },
     "execution_count": 17,
     "metadata": {},
     "output_type": "execute_result"
    }
   ],
   "source": [
    "print('Electric field at Q3 due to Q1')\n",
    "E_field(r, rp, q)"
   ]
  },
  {
   "cell_type": "code",
   "execution_count": 18,
   "id": "fb08a2d9",
   "metadata": {},
   "outputs": [],
   "source": [
    "l = 0.14/3\n",
    "r = [l, 0, 0]\n",
    "rp = [0, 0.03, 0]\n",
    "q = (8e-9)/3"
   ]
  },
  {
   "cell_type": "code",
   "execution_count": 19,
   "id": "2058f666",
   "metadata": {},
   "outputs": [
    {
     "name": "stdout",
     "output_type": "stream",
     "text": [
      "Electric field at Q3 due to Q2\n"
     ]
    },
    {
     "data": {
      "text/plain": [
       "[-6550.298174952908, 4210.905969612583, 0.0]"
      ]
     },
     "execution_count": 19,
     "metadata": {},
     "output_type": "execute_result"
    }
   ],
   "source": [
    "print('Electric field at Q3 due to Q2')\n",
    "E_field(r, rp, q)"
   ]
  },
  {
   "cell_type": "code",
   "execution_count": 20,
   "id": "62e597eb",
   "metadata": {},
   "outputs": [
    {
     "data": {
      "text/plain": [
       "35051.597479965916"
      ]
     },
     "execution_count": 20,
     "metadata": {},
     "output_type": "execute_result"
    }
   ],
   "source": [
    "26629.785540740748 + 2*4210.905969612583"
   ]
  },
  {
   "cell_type": "code",
   "execution_count": null,
   "id": "0eda34ba",
   "metadata": {},
   "outputs": [],
   "source": []
  },
  {
   "cell_type": "code",
   "execution_count": null,
   "id": "8c8c1ad7",
   "metadata": {},
   "outputs": [],
   "source": []
  },
  {
   "cell_type": "code",
   "execution_count": 2,
   "id": "a599064b",
   "metadata": {},
   "outputs": [],
   "source": [
    "L = 0.79\n",
    "r = 5e-4\n",
    "R = 0.03\n",
    "k = 8.98755262e9\n",
    "E = 3e6"
   ]
  },
  {
   "cell_type": "code",
   "execution_count": 126,
   "id": "45c0a14f",
   "metadata": {},
   "outputs": [],
   "source": [
    "Q = v*k**-1*0.5*L*(1/((np.emath.arctanh(np.sqrt(L**2+4*R**2)/L)) - (np.emath.arctanh(np.sqrt(L**2+4*r**2)/L))))"
   ]
  },
  {
   "cell_type": "code",
   "execution_count": 127,
   "id": "343c08a5",
   "metadata": {},
   "outputs": [
    {
     "data": {
      "text/plain": [
       "(-1.185862172742375e-06-0j)"
      ]
     },
     "execution_count": 127,
     "metadata": {},
     "output_type": "execute_result"
    },
    {
     "data": {
      "text/plain": [
       "1.185862172742375e-06"
      ]
     },
     "execution_count": 127,
     "metadata": {},
     "output_type": "execute_result"
    }
   ],
   "source": [
    "Q\n",
    "np.abs(Q)"
   ]
  },
  {
   "cell_type": "code",
   "execution_count": 128,
   "id": "0a7ebf49",
   "metadata": {},
   "outputs": [
    {
     "data": {
      "text/plain": [
       "1.1858622534997318e-06"
      ]
     },
     "execution_count": 128,
     "metadata": {},
     "output_type": "execute_result"
    }
   ],
   "source": [
    "Q = v*k**-1*(1/9.65472)\n",
    "Q"
   ]
  },
  {
   "cell_type": "code",
   "execution_count": 129,
   "id": "72cfa752",
   "metadata": {},
   "outputs": [
    {
     "data": {
      "text/plain": [
       "1.1858622534997318e-06"
      ]
     },
     "execution_count": 129,
     "metadata": {},
     "output_type": "execute_result"
    }
   ],
   "source": [
    "Q = (v/k)*(1/9.65472)\n",
    "Q"
   ]
  },
  {
   "cell_type": "code",
   "execution_count": 65,
   "id": "137baa5e",
   "metadata": {},
   "outputs": [
    {
     "data": {
      "text/plain": [
       "0.035"
      ]
     },
     "execution_count": 65,
     "metadata": {},
     "output_type": "execute_result"
    },
    {
     "data": {
      "text/plain": [
       "0.0007"
      ]
     },
     "execution_count": 65,
     "metadata": {},
     "output_type": "execute_result"
    }
   ],
   "source": [
    "R\n",
    "r"
   ]
  },
  {
   "cell_type": "code",
   "execution_count": 6,
   "id": "70a1ac22",
   "metadata": {},
   "outputs": [],
   "source": [
    "Q = E*(r*np.sqrt(r**2+(L/2)**2))/k"
   ]
  },
  {
   "cell_type": "code",
   "execution_count": 7,
   "id": "1ac4af14",
   "metadata": {},
   "outputs": [],
   "source": [
    "def integrand(r, L):\n",
    "    return 1/(r*np.sqrt(r**2+(L/2)**2))\n",
    "I = quad(integrand, r, R, args=(L))"
   ]
  },
  {
   "cell_type": "code",
   "execution_count": 9,
   "id": "934310a1",
   "metadata": {},
   "outputs": [
    {
     "data": {
      "text/plain": [
       "6139.363912008497"
      ]
     },
     "execution_count": 9,
     "metadata": {},
     "output_type": "execute_result"
    }
   ],
   "source": [
    "k*Q*I[0]"
   ]
  },
  {
   "cell_type": "code",
   "execution_count": 67,
   "id": "9fce4120",
   "metadata": {},
   "outputs": [
    {
     "data": {
      "text/plain": [
       "1.1858621727369006e-06"
      ]
     },
     "execution_count": 67,
     "metadata": {},
     "output_type": "execute_result"
    }
   ],
   "source": [
    "Q = (v/k)*(1/I[0])\n",
    "Q"
   ]
  },
  {
   "cell_type": "code",
   "execution_count": 80,
   "id": "e2ae26d1",
   "metadata": {},
   "outputs": [
    {
     "data": {
      "text/plain": [
       "3.9270646295253636e-07"
      ]
     },
     "execution_count": 80,
     "metadata": {},
     "output_type": "execute_result"
    }
   ],
   "source": [
    "(v/k)*(R-r)"
   ]
  },
  {
   "cell_type": "code",
   "execution_count": null,
   "id": "2aecb2eb",
   "metadata": {},
   "outputs": [],
   "source": []
  },
  {
   "cell_type": "code",
   "execution_count": 137,
   "id": "c6c9f514",
   "metadata": {
    "scrolled": true
   },
   "outputs": [
    {
     "data": {
      "text/plain": [
       "115482.41265243792"
      ]
     },
     "execution_count": 137,
     "metadata": {},
     "output_type": "execute_result"
    }
   ],
   "source": [
    "a = 3.7\n",
    "(k*4*44e-6/a**2)*(1-(0.002/np.sqrt(a**2+0.002**2)))"
   ]
  },
  {
   "cell_type": "code",
   "execution_count": 138,
   "id": "55b4ec20",
   "metadata": {},
   "outputs": [],
   "source": [
    "def integrand(z, a):\n",
    "    return 1 - z/np.sqrt(a**2+z**2)\n",
    "I = quad(integrand, 0.00015, 0.00185, args=(a))"
   ]
  },
  {
   "cell_type": "code",
   "execution_count": 140,
   "id": "ceb63bc9",
   "metadata": {},
   "outputs": [
    {
     "data": {
      "text/plain": [
       "196.37318968017823"
      ]
     },
     "execution_count": 140,
     "metadata": {},
     "output_type": "execute_result"
    }
   ],
   "source": [
    "I[0]*(k*4*44e-6/a**2)"
   ]
  },
  {
   "cell_type": "code",
   "execution_count": 141,
   "id": "5fd53c9a",
   "metadata": {},
   "outputs": [
    {
     "data": {
      "text/plain": [
       "0.0018384776310850235"
      ]
     },
     "execution_count": 141,
     "metadata": {},
     "output_type": "execute_result"
    }
   ],
   "source": [
    "np.sqrt(0.0017**2+0.0007**2)"
   ]
  },
  {
   "cell_type": "code",
   "execution_count": null,
   "id": "c729933f",
   "metadata": {},
   "outputs": [],
   "source": []
  },
  {
   "cell_type": "code",
   "execution_count": null,
   "id": "bf96ec6a",
   "metadata": {},
   "outputs": [],
   "source": []
  },
  {
   "cell_type": "code",
   "execution_count": 22,
   "id": "e7d3a513",
   "metadata": {},
   "outputs": [],
   "source": [
    "def linvel(r,M,m):\n",
    "    G = 6.674e-11\n",
    "    F = G*M*m/r**2\n",
    "    arad = F/m\n",
    "    v = np.sqrt(r*arad)\n",
    "    return v"
   ]
  },
  {
   "cell_type": "code",
   "execution_count": 23,
   "id": "143f7a47",
   "metadata": {},
   "outputs": [
    {
     "data": {
      "text/plain": [
       "3337.3559582127327"
      ]
     },
     "execution_count": 23,
     "metadata": {},
     "output_type": "execute_result"
    }
   ],
   "source": [
    "r = 35786000\n",
    "M = 5.972168e24\n",
    "m = 1e-3\n",
    "\n",
    "linvel(r,M,m)"
   ]
  },
  {
   "cell_type": "code",
   "execution_count": 25,
   "id": "28fa9a1c",
   "metadata": {},
   "outputs": [
    {
     "data": {
      "text/plain": [
       "3337.3559582127327"
      ]
     },
     "execution_count": 25,
     "metadata": {},
     "output_type": "execute_result"
    }
   ],
   "source": [
    "r = 35786000\n",
    "M = 5.972168e24\n",
    "m = 22300000000000000\n",
    "\n",
    "linvel(r,M,m)"
   ]
  },
  {
   "cell_type": "code",
   "execution_count": null,
   "id": "5c9eff24",
   "metadata": {},
   "outputs": [],
   "source": []
  }
 ],
 "metadata": {
  "kernelspec": {
   "display_name": "Python 3 (ipykernel)",
   "language": "python",
   "name": "python3"
  },
  "language_info": {
   "codemirror_mode": {
    "name": "ipython",
    "version": 3
   },
   "file_extension": ".py",
   "mimetype": "text/x-python",
   "name": "python",
   "nbconvert_exporter": "python",
   "pygments_lexer": "ipython3",
   "version": "3.11.4"
  }
 },
 "nbformat": 4,
 "nbformat_minor": 5
}
