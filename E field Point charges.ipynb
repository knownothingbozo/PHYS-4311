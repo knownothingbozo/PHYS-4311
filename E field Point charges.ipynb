{
 "cells": [
  {
   "cell_type": "code",
   "execution_count": 1,
   "id": "25b98679",
   "metadata": {},
   "outputs": [
    {
     "data": {
      "text/html": [
       "<style>.container { width:90% !important; }</style>"
      ],
      "text/plain": [
       "<IPython.core.display.HTML object>"
      ]
     },
     "metadata": {},
     "output_type": "display_data"
    },
    {
     "data": {
      "text/html": [
       "<style>#notebook-container { padding-bottom: 901px ; }</style>"
      ],
      "text/plain": [
       "<IPython.core.display.HTML object>"
      ]
     },
     "metadata": {},
     "output_type": "display_data"
    }
   ],
   "source": [
    "import math\n",
    "import sympy as sym\n",
    "import matplotlib.pyplot as plt\n",
    "import numpy as np\n",
    "from IPython.core.interactiveshell import InteractiveShell\n",
    "InteractiveShell.ast_node_interactivity = 'all'\n",
    "from sympy.abc import beta\n",
    "from scipy.integrate import quad\n",
    "from scipy.special import gamma\n",
    "from sympy import I\n",
    "\n",
    "from IPython.display import display, HTML\n",
    "display(HTML(\"<style>.container { width:90% !important; }</style>\"))\n",
    "display(HTML(\"<style>#notebook-container { padding-bottom: 901px ; }</style>\"))"
   ]
  },
  {
   "cell_type": "code",
   "execution_count": 2,
   "id": "1a0de79b-56b3-414c-9f8a-0677eb2aee7b",
   "metadata": {},
   "outputs": [],
   "source": [
    "from sympy import legendre, diff\n",
    "th, R = sym.symbols('th, r')"
   ]
  },
  {
   "cell_type": "markdown",
   "id": "9d819675-8a27-4d74-b7d4-9a835c0782bb",
   "metadata": {},
   "source": [
    "# Axial multipole expansion"
   ]
  },
  {
   "cell_type": "markdown",
   "id": "66c5b4e4-97e2-40f8-afc4-ca26dcb67113",
   "metadata": {},
   "source": [
    "$V = K' \\sum_{l=0}^{\\inf} \\frac{\\Sigma_i q_i r_i^l P_l (\\cos(\\theta_i )}{R^{l+1}}$\n",
    "\n",
    "This sum does not converge for $r/R > 1$. A different element can be factored out befor the Legendre polynomial substitution for this case."
   ]
  },
  {
   "cell_type": "code",
   "execution_count": 84,
   "id": "d5539be2-283a-4ece-86c3-df1a75da6ec0",
   "metadata": {},
   "outputs": [],
   "source": [
    "def axial_ex(point_charges, p0):\n",
    "    ep0 = 8.8541878128E-12\n",
    "    K = 1/(4*np.pi*ep0)\n",
    "    E = [0,0]\n",
    "    for j in point_charges:\n",
    "        V = 0\n",
    "        for i in range(50):\n",
    "            V += (np.linalg.norm(j[0:3])**i/R**(i+1)) * legendre(i, sym.cos(th))\n",
    "        ER =  - diff(V, R)\n",
    "        Eth =  - (1/R) * diff(V, th)\n",
    "        lam_ER = sym.lambdify([R, th], ER)\n",
    "        lam_Eth = sym.lambdify([R, th], Eth)\n",
    "        theta = np.arccos(np.dot(j[0:3], p0)/(np.linalg.norm(j[0:3])*np.linalg.norm(p0)))\n",
    "        m = p0[1]/p0[0]\n",
    "        if m*j[0] < j[1]:  ### Checks if angle is greater than pi/2\n",
    "            theta = -1*theta\n",
    "        E[0] += K * j[-1] * lam_ER(np.linalg.norm(p0), theta)\n",
    "        E[1] += K * j[-1] * lam_Eth(np.linalg.norm(p0), theta)\n",
    "    return E ### [E_R, E_theta]"
   ]
  },
  {
   "cell_type": "code",
   "execution_count": 51,
   "id": "2290ed53-235c-46e6-ae82-2ff7c4746434",
   "metadata": {},
   "outputs": [
    {
     "name": "stdout",
     "output_type": "stream",
     "text": [
      "0.19739555984988044\n",
      "0.19739555984988044\n"
     ]
    },
    {
     "data": {
      "text/plain": [
       "0.4128720829335742"
      ]
     },
     "execution_count": 51,
     "metadata": {},
     "output_type": "execute_result"
    },
    {
     "data": {
      "text/plain": [
       "0.09174935176301649"
      ]
     },
     "execution_count": 51,
     "metadata": {},
     "output_type": "execute_result"
    }
   ],
   "source": [
    "point_charges = np.array([[1,0,0, 4E-9]]) ### [X,Y,Z, Q]\n",
    "p0 = np.array([10, 2, 0]) ### Point of interest\n",
    "E = axial_ex(point_charges, p0)\n",
    "### Transform into Cartesian\n",
    "theta = np.arctan(p0[1]/p0[0])\n",
    "E[0]*np.cos(theta)+E[1]*np.cos(theta +np.pi/2)\n",
    "E[0]*np.sin(theta)+E[1]*np.sin(theta +np.pi/2)"
   ]
  },
  {
   "cell_type": "code",
   "execution_count": 37,
   "id": "89dba2ca-51af-42cd-afdf-daede18ed68d",
   "metadata": {},
   "outputs": [],
   "source": [
    "def E_field(r, rp, q):\n",
    "    k = 8.98755262e9\n",
    "    \n",
    "    R = []\n",
    "    for i in range(len(r)):\n",
    "        R.append(rp[i] - r[i])\n",
    "        \n",
    "    rmag = r_mag(R)\n",
    "    \n",
    "    E = np.array([0.0,0.0,0.0])\n",
    "    for i in range(E.size):\n",
    "        E[i] = (k*q*rmag**-3*R[i])\n",
    "    \n",
    "    return E\n",
    "        \n",
    "    \n",
    "def r_mag(r):\n",
    "    rmag = 0\n",
    "    for i in r:\n",
    "        rmag += i**2\n",
    "    return rmag**.5"
   ]
  },
  {
   "cell_type": "code",
   "execution_count": 38,
   "id": "b3062041-c095-485c-a752-5855317288cb",
   "metadata": {},
   "outputs": [
    {
     "data": {
      "text/plain": [
       "array([0.41287212, 0.09174936, 0.        ])"
      ]
     },
     "execution_count": 38,
     "metadata": {},
     "output_type": "execute_result"
    }
   ],
   "source": [
    "r = [1, 0, 0]\n",
    "rp = [10, 2, 0]\n",
    "q = 4E-9\n",
    "E_field(r, rp, q)"
   ]
  },
  {
   "cell_type": "code",
   "execution_count": 85,
   "id": "5bcfa05d-9136-46e3-9019-d0de1a324098",
   "metadata": {},
   "outputs": [
    {
     "data": {
      "text/plain": [
       "[2.170515923997889, -0.2593511527004362]"
      ]
     },
     "execution_count": 85,
     "metadata": {},
     "output_type": "execute_result"
    },
    {
     "data": {
      "text/plain": [
       "0.0"
      ]
     },
     "execution_count": 85,
     "metadata": {},
     "output_type": "execute_result"
    },
    {
     "data": {
      "text/plain": [
       "2.170515923997889"
      ]
     },
     "execution_count": 85,
     "metadata": {},
     "output_type": "execute_result"
    },
    {
     "data": {
      "text/plain": [
       "-0.2593511527004362"
      ]
     },
     "execution_count": 85,
     "metadata": {},
     "output_type": "execute_result"
    },
    {
     "data": {
      "text/plain": [
       "array([ 2.17051612, -0.25935118,  0.        ])"
      ]
     },
     "execution_count": 85,
     "metadata": {},
     "output_type": "execute_result"
    }
   ],
   "source": [
    "point_charges = np.array([[1,0,0, 4E-8],  \n",
    "                          [2,0,0, -3E-8], ### list of point charges\n",
    "                          [-5,2,0, 5E-8]])\n",
    "\n",
    "p0 = np.array([10, 0, 0]) ### Point of interest\n",
    "E = axial_ex(point_charges, p0)\n",
    "E\n",
    "\n",
    "theta = np.arctan(p0[1]/p0[0])\n",
    "theta\n",
    "E[0]*np.cos(theta)+E[1]*np.cos(theta +np.pi/2)\n",
    "E[0]*np.sin(theta)+E[1]*np.sin(theta +np.pi/2)\n",
    "\n",
    "E_test = np.zeros(3)\n",
    "for i in range(point_charges.shape[0]):\n",
    "    E_test += E_field(point_charges[i][0:3], p0, point_charges[i][-1])\n",
    "E_test"
   ]
  },
  {
   "cell_type": "code",
   "execution_count": 11,
   "id": "7dac2029-137c-4e75-b0e3-61191174c3e3",
   "metadata": {},
   "outputs": [
    {
     "data": {
      "text/plain": [
       "array([0.5, 0.5, 0.5])"
      ]
     },
     "execution_count": 11,
     "metadata": {},
     "output_type": "execute_result"
    }
   ],
   "source": [
    "E = np.array([0.0,0.0,0.0])\n",
    "E[:] = 0.5\n",
    "E"
   ]
  },
  {
   "cell_type": "code",
   "execution_count": null,
   "id": "226e8248-bfeb-43b1-b464-1e88bdf126c9",
   "metadata": {},
   "outputs": [],
   "source": []
  },
  {
   "cell_type": "code",
   "execution_count": null,
   "id": "5d3f2630-5aaf-4949-acc9-88f3b51c661f",
   "metadata": {},
   "outputs": [],
   "source": []
  }
 ],
 "metadata": {
  "kernelspec": {
   "display_name": "Python 3 (ipykernel)",
   "language": "python",
   "name": "python3"
  },
  "language_info": {
   "codemirror_mode": {
    "name": "ipython",
    "version": 3
   },
   "file_extension": ".py",
   "mimetype": "text/x-python",
   "name": "python",
   "nbconvert_exporter": "python",
   "pygments_lexer": "ipython3",
   "version": "3.11.9"
  }
 },
 "nbformat": 4,
 "nbformat_minor": 5
}
